{
 "cells": [
  {
   "cell_type": "code",
   "execution_count": 3,
   "id": "ce95735a",
   "metadata": {},
   "outputs": [],
   "source": [
    "import pandas as pd\n"
   ]
  },
  {
   "cell_type": "code",
   "execution_count": 4,
   "id": "16276f8e",
   "metadata": {},
   "outputs": [],
   "source": [
    "df=pd.read_csv('lesson_1_data.csv', encoding='windows-1251', sep=';')"
   ]
  },
  {
   "cell_type": "code",
   "execution_count": 5,
   "id": "a80643d0",
   "metadata": {},
   "outputs": [
    {
     "data": {
      "text/plain": [
       "Номер                  int64\n",
       "Дата создания         object\n",
       "Дата оплаты           object\n",
       "Title                 object\n",
       "Статус                object\n",
       "Заработано           float64\n",
       "Город                 object\n",
       "Платежная система     object\n",
       "dtype: object"
      ]
     },
     "execution_count": 5,
     "metadata": {},
     "output_type": "execute_result"
    }
   ],
   "source": [
    "df.dtypes"
   ]
  },
  {
   "cell_type": "code",
   "execution_count": 6,
   "id": "02fc0ba2",
   "metadata": {},
   "outputs": [
    {
     "data": {
      "text/html": [
       "<div>\n",
       "<style scoped>\n",
       "    .dataframe tbody tr th:only-of-type {\n",
       "        vertical-align: middle;\n",
       "    }\n",
       "\n",
       "    .dataframe tbody tr th {\n",
       "        vertical-align: top;\n",
       "    }\n",
       "\n",
       "    .dataframe thead th {\n",
       "        text-align: right;\n",
       "    }\n",
       "</style>\n",
       "<table border=\"1\" class=\"dataframe\">\n",
       "  <thead>\n",
       "    <tr style=\"text-align: right;\">\n",
       "      <th></th>\n",
       "      <th>Номер</th>\n",
       "      <th>Заработано</th>\n",
       "    </tr>\n",
       "  </thead>\n",
       "  <tbody>\n",
       "    <tr>\n",
       "      <th>count</th>\n",
       "      <td>2.920000e+02</td>\n",
       "      <td>292.000000</td>\n",
       "    </tr>\n",
       "    <tr>\n",
       "      <th>mean</th>\n",
       "      <td>1.063745e+06</td>\n",
       "      <td>3397.615034</td>\n",
       "    </tr>\n",
       "    <tr>\n",
       "      <th>std</th>\n",
       "      <td>4.438688e+02</td>\n",
       "      <td>5771.572829</td>\n",
       "    </tr>\n",
       "    <tr>\n",
       "      <th>min</th>\n",
       "      <td>1.062823e+06</td>\n",
       "      <td>0.000000</td>\n",
       "    </tr>\n",
       "    <tr>\n",
       "      <th>25%</th>\n",
       "      <td>1.063608e+06</td>\n",
       "      <td>0.000000</td>\n",
       "    </tr>\n",
       "    <tr>\n",
       "      <th>50%</th>\n",
       "      <td>1.063698e+06</td>\n",
       "      <td>2935.440000</td>\n",
       "    </tr>\n",
       "    <tr>\n",
       "      <th>75%</th>\n",
       "      <td>1.063807e+06</td>\n",
       "      <td>2935.440000</td>\n",
       "    </tr>\n",
       "    <tr>\n",
       "      <th>max</th>\n",
       "      <td>1.064796e+06</td>\n",
       "      <td>42750.000000</td>\n",
       "    </tr>\n",
       "  </tbody>\n",
       "</table>\n",
       "</div>"
      ],
      "text/plain": [
       "              Номер    Заработано\n",
       "count  2.920000e+02    292.000000\n",
       "mean   1.063745e+06   3397.615034\n",
       "std    4.438688e+02   5771.572829\n",
       "min    1.062823e+06      0.000000\n",
       "25%    1.063608e+06      0.000000\n",
       "50%    1.063698e+06   2935.440000\n",
       "75%    1.063807e+06   2935.440000\n",
       "max    1.064796e+06  42750.000000"
      ]
     },
     "execution_count": 6,
     "metadata": {},
     "output_type": "execute_result"
    }
   ],
   "source": [
    "df.describe()"
   ]
  },
  {
   "cell_type": "code",
   "execution_count": 7,
   "id": "93e37563",
   "metadata": {},
   "outputs": [
    {
     "data": {
      "text/plain": [
       "Index(['Номер', 'Дата создания', 'Дата оплаты', 'Title', 'Статус',\n",
       "       'Заработано', 'Город', 'Платежная система'],\n",
       "      dtype='object')"
      ]
     },
     "execution_count": 7,
     "metadata": {},
     "output_type": "execute_result"
    }
   ],
   "source": [
    "df.columns"
   ]
  },
  {
   "cell_type": "code",
   "execution_count": 16,
   "id": "281e41b5",
   "metadata": {},
   "outputs": [
    {
     "data": {
      "text/html": [
       "<div>\n",
       "<style scoped>\n",
       "    .dataframe tbody tr th:only-of-type {\n",
       "        vertical-align: middle;\n",
       "    }\n",
       "\n",
       "    .dataframe tbody tr th {\n",
       "        vertical-align: top;\n",
       "    }\n",
       "\n",
       "    .dataframe thead th {\n",
       "        text-align: right;\n",
       "    }\n",
       "</style>\n",
       "<table border=\"1\" class=\"dataframe\">\n",
       "  <thead>\n",
       "    <tr style=\"text-align: right;\">\n",
       "      <th></th>\n",
       "      <th>Номер</th>\n",
       "      <th>Дата создания</th>\n",
       "      <th>Дата оплаты</th>\n",
       "      <th>Title</th>\n",
       "      <th>Статус</th>\n",
       "      <th>Заработано</th>\n",
       "      <th>Город</th>\n",
       "      <th>Платежная система</th>\n",
       "    </tr>\n",
       "  </thead>\n",
       "  <tbody>\n",
       "    <tr>\n",
       "      <th>0</th>\n",
       "      <td>1062823</td>\n",
       "      <td>01.12.2019 10:50</td>\n",
       "      <td>01.12.2019 10:52</td>\n",
       "      <td>Курс обучения «Эксперт»</td>\n",
       "      <td>Завершен</td>\n",
       "      <td>29597.5</td>\n",
       "      <td>Чита</td>\n",
       "      <td>Сбербанк эквайринг</td>\n",
       "    </tr>\n",
       "    <tr>\n",
       "      <th>1</th>\n",
       "      <td>1062855</td>\n",
       "      <td>01.12.2019 20:53</td>\n",
       "      <td>01.12.2019 21:27</td>\n",
       "      <td>Курс обучения «Эксперт»</td>\n",
       "      <td>Завершен</td>\n",
       "      <td>17450.3</td>\n",
       "      <td>Краснодар</td>\n",
       "      <td>Яндекс.Касса</td>\n",
       "    </tr>\n",
       "    <tr>\n",
       "      <th>2</th>\n",
       "      <td>1062856</td>\n",
       "      <td>01.12.2019 21:43</td>\n",
       "      <td>NaN</td>\n",
       "      <td>Курс обучения «Специалист»</td>\n",
       "      <td>Отменен</td>\n",
       "      <td>0.0</td>\n",
       "      <td>NaN</td>\n",
       "      <td>NaN</td>\n",
       "    </tr>\n",
       "    <tr>\n",
       "      <th>3</th>\n",
       "      <td>1062880</td>\n",
       "      <td>03.12.2019 0:18</td>\n",
       "      <td>NaN</td>\n",
       "      <td>Курс обучения «Консультант»</td>\n",
       "      <td>Отменен</td>\n",
       "      <td>0.0</td>\n",
       "      <td>г.Москва и Московская область</td>\n",
       "      <td>NaN</td>\n",
       "    </tr>\n",
       "    <tr>\n",
       "      <th>4</th>\n",
       "      <td>1062899</td>\n",
       "      <td>03.12.2019 21:43</td>\n",
       "      <td>NaN</td>\n",
       "      <td>Курс обучения «Эксперт»</td>\n",
       "      <td>Отменен</td>\n",
       "      <td>0.0</td>\n",
       "      <td>г.Москва и Московская область</td>\n",
       "      <td>NaN</td>\n",
       "    </tr>\n",
       "  </tbody>\n",
       "</table>\n",
       "</div>"
      ],
      "text/plain": [
       "     Номер     Дата создания       Дата оплаты                        Title  \\\n",
       "0  1062823  01.12.2019 10:50  01.12.2019 10:52      Курс обучения «Эксперт»   \n",
       "1  1062855  01.12.2019 20:53  01.12.2019 21:27      Курс обучения «Эксперт»   \n",
       "2  1062856  01.12.2019 21:43               NaN   Курс обучения «Специалист»   \n",
       "3  1062880   03.12.2019 0:18               NaN  Курс обучения «Консультант»   \n",
       "4  1062899  03.12.2019 21:43               NaN      Курс обучения «Эксперт»   \n",
       "\n",
       "     Статус  Заработано                          Город   Платежная система  \n",
       "0  Завершен     29597.5                           Чита  Сбербанк эквайринг  \n",
       "1  Завершен     17450.3                      Краснодар        Яндекс.Касса  \n",
       "2   Отменен         0.0                            NaN                 NaN  \n",
       "3   Отменен         0.0  г.Москва и Московская область                 NaN  \n",
       "4   Отменен         0.0  г.Москва и Московская область                 NaN  "
      ]
     },
     "execution_count": 16,
     "metadata": {},
     "output_type": "execute_result"
    }
   ],
   "source": [
    "df.rename(columns={'Номер' : 'number', 'Дата создания' : 'create_date', 'Дата оплаты' : 'payment_date', 'Title' : 'tittle', 'Статус' : 'status',\n",
    "       'Заработано' : 'money', 'Город' : 'city', 'Платежная система': 'payment_system'})"
   ]
  },
  {
   "cell_type": "code",
   "execution_count": 9,
   "id": "632655ff",
   "metadata": {},
   "outputs": [
    {
     "data": {
      "text/plain": [
       "Index(['Номер', 'Дата создания', 'Дата оплаты', 'Title', 'Статус',\n",
       "       'Заработано', 'Город', 'Платежная система'],\n",
       "      dtype='object')"
      ]
     },
     "execution_count": 9,
     "metadata": {},
     "output_type": "execute_result"
    }
   ],
   "source": [
    "df.columns"
   ]
  },
  {
   "cell_type": "code",
   "execution_count": 24,
   "id": "9c4bd5d6",
   "metadata": {},
   "outputs": [],
   "source": [
    "all_money=df.Заработано.sum()"
   ]
  },
  {
   "cell_type": "code",
   "execution_count": 25,
   "id": "d55dc67d",
   "metadata": {},
   "outputs": [
    {
     "data": {
      "text/plain": [
       "992103.5900000001"
      ]
     },
     "execution_count": 25,
     "metadata": {},
     "output_type": "execute_result"
    }
   ],
   "source": [
    "all_money"
   ]
  },
  {
   "cell_type": "code",
   "execution_count": 55,
   "id": "b01a5af7",
   "metadata": {},
   "outputs": [
    {
     "data": {
      "text/html": [
       "<div>\n",
       "<style scoped>\n",
       "    .dataframe tbody tr th:only-of-type {\n",
       "        vertical-align: middle;\n",
       "    }\n",
       "\n",
       "    .dataframe tbody tr th {\n",
       "        vertical-align: top;\n",
       "    }\n",
       "\n",
       "    .dataframe thead th {\n",
       "        text-align: right;\n",
       "    }\n",
       "</style>\n",
       "<table border=\"1\" class=\"dataframe\">\n",
       "  <thead>\n",
       "    <tr style=\"text-align: right;\">\n",
       "      <th></th>\n",
       "      <th>Title</th>\n",
       "      <th>Город</th>\n",
       "      <th>Заработано</th>\n",
       "    </tr>\n",
       "  </thead>\n",
       "  <tbody>\n",
       "    <tr>\n",
       "      <th>7</th>\n",
       "      <td>Курс от Школы Диетологов. Повышение квалификац...</td>\n",
       "      <td>Уфа</td>\n",
       "      <td>9898.56</td>\n",
       "    </tr>\n",
       "    <tr>\n",
       "      <th>2</th>\n",
       "      <td>Курс обучения «Консультант»</td>\n",
       "      <td>г.Москва и Московская область</td>\n",
       "      <td>8374.82</td>\n",
       "    </tr>\n",
       "    <tr>\n",
       "      <th>6</th>\n",
       "      <td>Курс от Школы Диетологов. Бизнес</td>\n",
       "      <td>г.Москва и Московская область</td>\n",
       "      <td>5398.56</td>\n",
       "    </tr>\n",
       "    <tr>\n",
       "      <th>3</th>\n",
       "      <td>Курс обучения «Специалист»</td>\n",
       "      <td>Тамбовская область</td>\n",
       "      <td>3591.84</td>\n",
       "    </tr>\n",
       "    <tr>\n",
       "      <th>9</th>\n",
       "      <td>Подписка «ОНЛАЙН ДИЕТОЛОГ» с ежемесячным автос...</td>\n",
       "      <td>Москва</td>\n",
       "      <td>2935.44</td>\n",
       "    </tr>\n",
       "    <tr>\n",
       "      <th>10</th>\n",
       "      <td>Подписка «ОНЛАЙН ДИЕТОЛОГ» с ежемесячным автос...</td>\n",
       "      <td>Одинцово</td>\n",
       "      <td>2935.44</td>\n",
       "    </tr>\n",
       "    <tr>\n",
       "      <th>11</th>\n",
       "      <td>Подписка «ОНЛАЙН ДИЕТОЛОГ» с ежемесячным автос...</td>\n",
       "      <td>Республика Карелия</td>\n",
       "      <td>2935.44</td>\n",
       "    </tr>\n",
       "    <tr>\n",
       "      <th>12</th>\n",
       "      <td>Подписка «ОНЛАЙН ДИЕТОЛОГ» с ежемесячным автос...</td>\n",
       "      <td>Самарская область</td>\n",
       "      <td>2935.44</td>\n",
       "    </tr>\n",
       "    <tr>\n",
       "      <th>13</th>\n",
       "      <td>Подписка «ОНЛАЙН ДИЕТОЛОГ» с ежемесячным автос...</td>\n",
       "      <td>Тульская область</td>\n",
       "      <td>2935.44</td>\n",
       "    </tr>\n",
       "    <tr>\n",
       "      <th>1</th>\n",
       "      <td>Курс обучения «Консультант»</td>\n",
       "      <td>София</td>\n",
       "      <td>1.00</td>\n",
       "    </tr>\n",
       "    <tr>\n",
       "      <th>0</th>\n",
       "      <td>Курс обучения «Консультант»</td>\n",
       "      <td>Свердловская область</td>\n",
       "      <td>0.00</td>\n",
       "    </tr>\n",
       "    <tr>\n",
       "      <th>4</th>\n",
       "      <td>Курс от Школы Диетологов. Бизнес</td>\n",
       "      <td>Воронежская область</td>\n",
       "      <td>0.00</td>\n",
       "    </tr>\n",
       "    <tr>\n",
       "      <th>5</th>\n",
       "      <td>Курс от Школы Диетологов. Бизнес</td>\n",
       "      <td>Кемеровская область</td>\n",
       "      <td>0.00</td>\n",
       "    </tr>\n",
       "    <tr>\n",
       "      <th>8</th>\n",
       "      <td>Курс от Школы Диетологов. Повышение квалификац...</td>\n",
       "      <td>Чеченская Республика</td>\n",
       "      <td>0.00</td>\n",
       "    </tr>\n",
       "  </tbody>\n",
       "</table>\n",
       "</div>"
      ],
      "text/plain": [
       "                                                Title  \\\n",
       "7   Курс от Школы Диетологов. Повышение квалификац...   \n",
       "2                         Курс обучения «Консультант»   \n",
       "6                    Курс от Школы Диетологов. Бизнес   \n",
       "3                          Курс обучения «Специалист»   \n",
       "9   Подписка «ОНЛАЙН ДИЕТОЛОГ» с ежемесячным автос...   \n",
       "10  Подписка «ОНЛАЙН ДИЕТОЛОГ» с ежемесячным автос...   \n",
       "11  Подписка «ОНЛАЙН ДИЕТОЛОГ» с ежемесячным автос...   \n",
       "12  Подписка «ОНЛАЙН ДИЕТОЛОГ» с ежемесячным автос...   \n",
       "13  Подписка «ОНЛАЙН ДИЕТОЛОГ» с ежемесячным автос...   \n",
       "1                         Курс обучения «Консультант»   \n",
       "0                         Курс обучения «Консультант»   \n",
       "4                    Курс от Школы Диетологов. Бизнес   \n",
       "5                    Курс от Школы Диетологов. Бизнес   \n",
       "8   Курс от Школы Диетологов. Повышение квалификац...   \n",
       "\n",
       "                            Город  Заработано  \n",
       "7                             Уфа     9898.56  \n",
       "2   г.Москва и Московская область     8374.82  \n",
       "6   г.Москва и Московская область     5398.56  \n",
       "3              Тамбовская область     3591.84  \n",
       "9                          Москва     2935.44  \n",
       "10                       Одинцово     2935.44  \n",
       "11             Республика Карелия     2935.44  \n",
       "12              Самарская область     2935.44  \n",
       "13               Тульская область     2935.44  \n",
       "1                           София        1.00  \n",
       "0            Свердловская область        0.00  \n",
       "4             Воронежская область        0.00  \n",
       "5             Кемеровская область        0.00  \n",
       "8            Чеченская Республика        0.00  "
      ]
     },
     "execution_count": 55,
     "metadata": {},
     "output_type": "execute_result"
    }
   ],
   "source": [
    "df.query('Номер>1064620').groupby(['Title', 'Город'], as_index=False).aggregate({'Заработано' : 'sum'}).sort_values('Заработано', ascending=False)"
   ]
  },
  {
   "cell_type": "code",
   "execution_count": 50,
   "id": "86d17f97",
   "metadata": {},
   "outputs": [],
   "source": [
    "money.to_csv('money_to_city', index=False)"
   ]
  },
  {
   "cell_type": "code",
   "execution_count": null,
   "id": "80d5f3a7",
   "metadata": {},
   "outputs": [],
   "source": []
  }
 ],
 "metadata": {
  "kernelspec": {
   "display_name": "Python 3 (ipykernel)",
   "language": "python",
   "name": "python3"
  },
  "language_info": {
   "codemirror_mode": {
    "name": "ipython",
    "version": 3
   },
   "file_extension": ".py",
   "mimetype": "text/x-python",
   "name": "python",
   "nbconvert_exporter": "python",
   "pygments_lexer": "ipython3",
   "version": "3.10.6"
  }
 },
 "nbformat": 4,
 "nbformat_minor": 5
}
